{
  "nbformat": 4,
  "nbformat_minor": 0,
  "metadata": {
    "colab": {
      "name": "INFO3020 Final.ipynb",
      "provenance": [],
      "authorship_tag": "ABX9TyMW8piUrgq4TYFa0ePjyJbb",
      "include_colab_link": true
    },
    "kernelspec": {
      "name": "python3",
      "display_name": "Python 3"
    }
  },
  "cells": [
    {
      "cell_type": "markdown",
      "metadata": {
        "id": "view-in-github",
        "colab_type": "text"
      },
      "source": [
        "<a href=\"https://colab.research.google.com/github/lamancea/Adam_INFO3020_Spring2020/blob/master/INFO3020_Final.ipynb\" target=\"_parent\"><img src=\"https://colab.research.google.com/assets/colab-badge.svg\" alt=\"Open In Colab\"/></a>"
      ]
    },
    {
      "cell_type": "code",
      "metadata": {
        "id": "0GWs1T_H7DrX",
        "colab_type": "code",
        "colab": {
          "base_uri": "https://localhost:8080/",
          "height": 54
        },
        "outputId": "10044143-a788-4c02-b165-e1db9d9011c1"
      },
      "source": [
        "# #1\n",
        "def funprint():\n",
        "  x=str(input(\"please input a string:\"))\n",
        "  print(x)\n",
        "funprint()"
      ],
      "execution_count": 10,
      "outputs": [
        {
          "output_type": "stream",
          "text": [
            "please input a string:blah blah\n",
            "blah blah\n"
          ],
          "name": "stdout"
        }
      ]
    },
    {
      "cell_type": "code",
      "metadata": {
        "id": "LoEgiHuH7vu9",
        "colab_type": "code",
        "colab": {
          "base_uri": "https://localhost:8080/",
          "height": 35
        },
        "outputId": "acd9819e-b37b-49f8-a220-b9b49ea87fa4"
      },
      "source": [
        "# #2\n",
        "sm=0\n",
        "for i in range(1001):\n",
        "  if i%2==0:\n",
        "    sm=sm+i\n",
        "print(sm)"
      ],
      "execution_count": 15,
      "outputs": [
        {
          "output_type": "stream",
          "text": [
            "250500\n"
          ],
          "name": "stdout"
        }
      ]
    },
    {
      "cell_type": "code",
      "metadata": {
        "id": "qQJThekH8-cq",
        "colab_type": "code",
        "colab": {
          "base_uri": "https://localhost:8080/",
          "height": 35
        },
        "outputId": "1c499a66-13b9-4c64-f945-0311069c14b3"
      },
      "source": [
        "# #3\n",
        "def numprod(numbers):\n",
        "  x=1\n",
        "  for i in numbers:\n",
        "    if type(i) is list:\n",
        "      x=x*numprod(i)\n",
        "    else:\n",
        "      x=x*i\n",
        "  return x\n",
        "\n",
        "numbers=[12,10,3,2,[6,[7,8,9],19,21],21]\n",
        "print(numprod(numbers))"
      ],
      "execution_count": 18,
      "outputs": [
        {
          "output_type": "stream",
          "text": [
            "18243429120\n"
          ],
          "name": "stdout"
        }
      ]
    },
    {
      "cell_type": "code",
      "metadata": {
        "id": "jQZlkSWE-Ooq",
        "colab_type": "code",
        "colab": {}
      },
      "source": [
        "# #4\n",
        "import numpy as np\n",
        "def matrout(matrx):\n",
        "  narry=np.array(matrx)\n",
        "  narry[narry>20]=0\n",
        "  with open('result.txt','w') as myfile:\n",
        "    myfile.write(str(narry))\n",
        "matrix=[[23,43,12],[32,12,52],[15,35,52],[19,28,56]]\n",
        "matrout(matrix)"
      ],
      "execution_count": 0,
      "outputs": []
    },
    {
      "cell_type": "code",
      "metadata": {
        "id": "REas_cXPArhL",
        "colab_type": "code",
        "colab": {
          "base_uri": "https://localhost:8080/",
          "height": 127
        },
        "outputId": "02d0f610-3764-46d4-ac74-0ede2ccc0956"
      },
      "source": [
        "# #5\n",
        "def numcnt(numbers):\n",
        "  d={}\n",
        "  for i in range(len(numbers)):\n",
        "    c=0\n",
        "    for y in range(len(numbers)):\n",
        "      if numbers[i]==numbers[y]:\n",
        "         c+=1\n",
        "    d[numbers[i]]=c\n",
        "  for key in d:\n",
        "    print(key,' ',d[key])\n",
        "numbers=[1,3,2,4,2,3,2,2,3,2,2,4,2,32,3,2,4,2,3,5,3,2,4,2,2,4,2,2,4,2,2,3,1,3,2,3]\n",
        "numcnt(numbers)"
      ],
      "execution_count": 27,
      "outputs": [
        {
          "output_type": "stream",
          "text": [
            "1   2\n",
            "3   9\n",
            "2   17\n",
            "4   6\n",
            "32   1\n",
            "5   1\n"
          ],
          "name": "stdout"
        }
      ]
    },
    {
      "cell_type": "code",
      "metadata": {
        "id": "esJUE90QDqeE",
        "colab_type": "code",
        "colab": {
          "base_uri": "https://localhost:8080/",
          "height": 54
        },
        "outputId": "9b2a62f6-718c-4aaa-a248-606a4fc49f66"
      },
      "source": [
        "# #6\n",
        "class Point:\n",
        "  def __init__(self,x=0,y=0):\n",
        "    self.x=x\n",
        "    self.y=y\n",
        " \n",
        "  def __str__(self):\n",
        "    return \"The Point is ({0},{1})\".format(self.x,self.y)\n",
        "\n",
        "  def __add__(self,other):\n",
        "    return Point(other.x+self.x,other.y+self.y)\n",
        "\n",
        "\n",
        "\n",
        "p1=Point(1,3)\n",
        "p2=Point(3,4)\n",
        "print(p2)\n",
        "print(p1+p2)"
      ],
      "execution_count": 36,
      "outputs": [
        {
          "output_type": "stream",
          "text": [
            "The Point is (3,4)\n",
            "The Point is (4,7)\n"
          ],
          "name": "stdout"
        }
      ]
    },
    {
      "cell_type": "code",
      "metadata": {
        "id": "juQJj7jKY4Ds",
        "colab_type": "code",
        "colab": {}
      },
      "source": [
        "# #7\n",
        "import pandas as pd\n",
        "def itemsales():\n",
        "    filename = \"catering_sale_all.xls\"\n",
        "    data = pd.read_excel(filename,index='sale date')\n",
        "    d={}\n",
        "    dn={}\n",
        "    x=0\n",
        "    for lines in data:\n",
        "      if lines!='sale date':\n",
        "        x+=1\n",
        "        dn[x]=lines\n",
        "        d[lines]=data[lines].sum()\n",
        "    print('0 Exit')\n",
        "    x=0\n",
        "    for i in d:\n",
        "      x+=1\n",
        "      print(x,i)\n",
        "    inp=int(input('please input a number from the list:'))\n",
        "    if 0<inp<11:\n",
        "      print('the total sale of {0} is {1}'.format(dn[inp],d[dn[inp]]))\n",
        "      itemsales()\n",
        "    \n",
        "    \n",
        "itemsales()"
      ],
      "execution_count": 0,
      "outputs": []
    },
    {
      "cell_type": "code",
      "metadata": {
        "id": "dndDITxIiG53",
        "colab_type": "code",
        "colab": {}
      },
      "source": [
        "# #8\n",
        "import pymysql\n",
        "def getavglife(cont):\n",
        "    worlddb = pymysql.connect(\"localhost\", \"root\", \"bkite123\", \"world\")\n",
        "    cursor = worlddb.cursor()\n",
        "    sql = \"select avg(LifeExpectancy) from country where continent=%s\"\n",
        "    command = cursor.execute(sql,cont)\n",
        "    results = cursor.fetchone()\n",
        "    worlddb.close()\n",
        "    return results\n",
        "def resavglife():\n",
        "    continents=('North America','Asia','Africa','Europe','South America','Oceania','Antarctica')\n",
        "    print('avglife  :  continent')\n",
        "    for nm in continents:\n",
        "        print(getavglife(nm)[0],'  :  ',nm)\n",
        "resavglife()"
      ],
      "execution_count": 0,
      "outputs": []
    },
    {
      "cell_type": "code",
      "metadata": {
        "id": "jWeD2Z2Tl6_2",
        "colab_type": "code",
        "colab": {}
      },
      "source": [
        "# #9\n",
        "import pymysql\n",
        "from pylab import *\n",
        "def connworld(sql,cont):\n",
        "    worlddb = pymysql.connect(\"localhost\", \"root\", \"bkite123\", \"world\")\n",
        "    cursor = worlddb.cursor()\n",
        "    command = cursor.execute(sql,cont)\n",
        "    results = cursor.fetchone()\n",
        "    worlddb.close()\n",
        "    return results\n",
        "\n",
        "\n",
        "def totpopbycon(continents):\n",
        "\n",
        "    d=[]\n",
        "    for i in range(len(continents)):\n",
        "\n",
        "        sql = \"select sum(Population) from country where continent=%s\"\n",
        "        d.append(int(connworld(sql,continents[i])[0]))\n",
        "    return(d)\n",
        "\n",
        "def piechrtpop():\n",
        "    continents=('North America','Asia','Africa','Europe','South America','Oceania','Antarctica')\n",
        "    pop=totpopbycon(continents)\n",
        "    pie(pop,explode=(0.1,0.1,0.1,0.1,0.1,0.1,0.1),labels=continents,autopct='%1.1f%%',startangle=90)\n",
        "    title('population by continent')\n",
        "    show()\n",
        "\n",
        "\n",
        "\n",
        "\n",
        "piechrtpop()"
      ],
      "execution_count": 0,
      "outputs": []
    },
    {
      "cell_type": "code",
      "metadata": {
        "id": "I5hfXLmZwnZE",
        "colab_type": "code",
        "colab": {}
      },
      "source": [
        "# #10\n",
        "import pandas as pd\n",
        "import matplotlib.pyplot as plt\n",
        "\n",
        "filename=\"energy-production.csv\"\n",
        "reader=pd.read_csv(filename)\n",
        "\n",
        "x=[]\n",
        "def getyear(year):\n",
        "  for index,rows in reader.iterrows():\n",
        "   if rows.Year==year:\n",
        "     for i in rows:\n",
        "        x.append(i)\n",
        "    \n",
        "def bargrph():\n",
        "  y=reader.columns\n",
        "  getyear(int(input('please input a year between 1973 and 2014: ')))\n",
        "  plt.figure(figsize=(12, 5)) \n",
        "  plt.xticks(rotation=-15)         \n",
        "  plt.bar(y[2:],x[2:])\n",
        "  plt.show()\n",
        "bargrph()"
      ],
      "execution_count": 0,
      "outputs": []
    }
  ]
}