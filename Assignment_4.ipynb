{
  "nbformat": 4,
  "nbformat_minor": 0,
  "metadata": {
    "colab": {
      "name": "Assignment 4.ipynb",
      "provenance": [],
      "authorship_tag": "ABX9TyMgWWp/4ytwgiqAe4oRHXzb",
      "include_colab_link": true
    },
    "kernelspec": {
      "name": "python3",
      "display_name": "Python 3"
    }
  },
  "cells": [
    {
      "cell_type": "markdown",
      "metadata": {
        "id": "view-in-github",
        "colab_type": "text"
      },
      "source": [
        "<a href=\"https://colab.research.google.com/github/lamancea/Adam_INFO3020_Spring2020/blob/master/Assignment_4.ipynb\" target=\"_parent\"><img src=\"https://colab.research.google.com/assets/colab-badge.svg\" alt=\"Open In Colab\"/></a>"
      ]
    },
    {
      "cell_type": "code",
      "metadata": {
        "id": "1GYGDzAdcH2x",
        "colab_type": "code",
        "colab": {
          "base_uri": "https://localhost:8080/",
          "height": 84
        },
        "outputId": "fa6edc41-e9fc-4d03-beb4-62be98da7592"
      },
      "source": [
        "#1\n",
        "def getext(file):\n",
        "  x=0\n",
        "  y=0\n",
        "  if not \".\" in file:\n",
        "    print(\"invalild filename\")\n",
        "  \n",
        "  while \".\" in file[x:]:\n",
        "    x=file.find(\".\",x)+1\n",
        "    #print(y)\n",
        "    #print(x)\n",
        "    #y+=1\n",
        "  return(file[x:])\n",
        "  \n",
        "\n",
        "\n",
        "print(getext(\"bob.bob.cat.java\"))\n",
        "print(getext(\"xx.txt.doc\"))\n",
        "print(getext(\"xx.txt\"))\n",
        "\n",
        "print(getext(\"xx.xls.ppt.doc\"))"
      ],
      "execution_count": 25,
      "outputs": [
        {
          "output_type": "stream",
          "text": [
            "java\n",
            "doc\n",
            "txt\n",
            "doc\n"
          ],
          "name": "stdout"
        }
      ]
    },
    {
      "cell_type": "code",
      "metadata": {
        "id": "BJFpvDP6eZ2Q",
        "colab_type": "code",
        "colab": {
          "base_uri": "https://localhost:8080/",
          "height": 50
        },
        "outputId": "bbf88885-a867-400f-e9f3-ce6f549a07df"
      },
      "source": [
        "#2\n",
        "def replace(s,old,new):\n",
        "  news=\"\"\n",
        "  for i in range(len(s)):\n",
        "    if s[i]==old:\n",
        "      news=news+new\n",
        "    else:\n",
        "      news=news+s[i]\n",
        "  return(news)\n",
        "    #print(\"1\")\n",
        "\n",
        "print(replace(\"I love spom! Spom is my favorite food.  Spom! Spom! Spom!\",\"o\",\"a\"))\n",
        "\n",
        "print(replace(\"Mississippi\",\"s\",\"S\"))"
      ],
      "execution_count": 26,
      "outputs": [
        {
          "output_type": "stream",
          "text": [
            "I lave spam! Spam is my favarite faad.  Spam! Spam! Spam!\n",
            "MiSSiSSippi\n"
          ],
          "name": "stdout"
        }
      ]
    },
    {
      "cell_type": "code",
      "metadata": {
        "id": "vdda_1YyzClH",
        "colab_type": "code",
        "colab": {}
      },
      "source": [
        "# concentric squares\n",
        "import turtle\n",
        "\n",
        "def draw_sqares(color,size):\n",
        "    square=turtle.Turtle()\n",
        "    square.color(color)\n",
        "\n",
        "    sizex=size\n",
        "    for i in range(5):\n",
        "        square.penup()\n",
        "        square.forward(20)\n",
        "        square.left(90)\n",
        "        square.forward(20)\n",
        "        square.right(90)\n",
        "        square.pendown()\n",
        "        for i in range(4):\n",
        "            square.right(90)\n",
        "            square.forward(sizex)\n",
        "        sizex+=40\n",
        "    pass\n",
        "window=turtle.Screen()\n",
        "\n",
        "\n",
        "\n",
        "\n",
        "draw_sqares(\"pink\",50)\n",
        "window.mainloop()"
      ],
      "execution_count": 0,
      "outputs": []
    },
    {
      "cell_type": "code",
      "metadata": {
        "id": "BAMmFDBezLlQ",
        "colab_type": "code",
        "colab": {}
      },
      "source": [
        "# maze\n",
        "import turtle\n",
        "\n",
        "def maze(color):\n",
        "    maze = turtle.Turtle()\n",
        "    maze.color(color)\n",
        "    x=5\n",
        "    for i in range(80):\n",
        "        maze.backward(x)\n",
        "        maze.left(90)\n",
        "        x+=5\n",
        "window=turtle.Screen()\n",
        "\n",
        "\n",
        "\n",
        "\n",
        "maze(\"blue\")\n",
        "window.mainloop()"
      ],
      "execution_count": 0,
      "outputs": []
    }
  ]
}