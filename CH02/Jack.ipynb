{
  "nbformat": 4,
  "nbformat_minor": 0,
  "metadata": {
    "colab": {
      "name": "Untitled1.ipynb",
      "provenance": [],
      "authorship_tag": "ABX9TyMGzDCtmMghnkyOo0rmUllM",
      "include_colab_link": true
    },
    "kernelspec": {
      "name": "python3",
      "display_name": "Python 3"
    }
  },
  "cells": [
    {
      "cell_type": "markdown",
      "metadata": {
        "id": "view-in-github",
        "colab_type": "text"
      },
      "source": [
        "<a href=\"https://colab.research.google.com/github/lamancea/Adam_INFO3020_Spring2020/blob/master/CH02/Jack.ipynb\" target=\"_parent\"><img src=\"https://colab.research.google.com/assets/colab-badge.svg\" alt=\"Open In Colab\"/></a>"
      ]
    },
    {
      "cell_type": "code",
      "metadata": {
        "id": "OwuDp_Ttgczb",
        "colab_type": "code",
        "colab": {
          "base_uri": "https://localhost:8080/",
          "height": 34
        },
        "outputId": "dc25ea5a-7079-413a-8dba-e903a11e0567"
      },
      "source": [
        "a=\"All \"\n",
        "b=\"work \"\n",
        "c=\"and \"\n",
        "d=\"no \"\n",
        "e=\"play \"\n",
        "f=\"makes \"\n",
        "g=\"Jack \"\n",
        "h=\"a \"\n",
        "i=\"dull \"\n",
        "j=\"boy.\"\n",
        "print(a+b+c+d+e+f+g+h+i+j)"
      ],
      "execution_count": 4,
      "outputs": [
        {
          "output_type": "stream",
          "text": [
            "All work and no play makes Jack a dull boy.\n"
          ],
          "name": "stdout"
        }
      ]
    }
  ]
}