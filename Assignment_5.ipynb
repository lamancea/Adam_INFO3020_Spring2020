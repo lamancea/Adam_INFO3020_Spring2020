{
  "nbformat": 4,
  "nbformat_minor": 0,
  "metadata": {
    "colab": {
      "name": "Assignment 5.ipynb",
      "provenance": [],
      "toc_visible": true,
      "authorship_tag": "ABX9TyNyUnwN6eB3I+MltJhy+cBw",
      "include_colab_link": true
    },
    "kernelspec": {
      "name": "python3",
      "display_name": "Python 3"
    }
  },
  "cells": [
    {
      "cell_type": "markdown",
      "metadata": {
        "id": "view-in-github",
        "colab_type": "text"
      },
      "source": [
        "<a href=\"https://colab.research.google.com/github/lamancea/Adam_INFO3020_Spring2020/blob/master/Assignment_5.ipynb\" target=\"_parent\"><img src=\"https://colab.research.google.com/assets/colab-badge.svg\" alt=\"Open In Colab\"/></a>"
      ]
    },
    {
      "cell_type": "code",
      "metadata": {
        "id": "dh9x_GAhiM-m",
        "colab_type": "code",
        "outputId": "c3fc1356-6b26-4b1c-8856-f24eb7df6ff1",
        "colab": {
          "base_uri": "https://localhost:8080/",
          "height": 68
        }
      },
      "source": [
        "# part 1\n",
        "\n",
        "students = ((12345678 , \"Joe Smith\", (\"INFO3020\" , \"ASLP2050\" , \"ANTH4021\")),(87654321, \"Jill Smith\" ,  (\"MATH1010\", \"PHYS4050\")),(56781234,\"Juan Gonzales\", (\"SOCI2020\",\"INFO3020\")))\n",
        "#print(studenta[2][2])\n",
        "\n",
        "def courses(name):\n",
        "  studcourse = name + \" not found\"\n",
        "  for i in range(len(students)):\n",
        "    if name == students[i][1]:\n",
        "      studcourse = name + \" is taking the following courses: \"+ str(students[i][2])\n",
        "  return(studcourse)\n",
        "\n",
        "print(courses(\"Joe Smith\"))\n",
        "print(courses(\"Juan Gonzales\"))\n",
        "print(courses(\"Keith Richards\"))"
      ],
      "execution_count": 0,
      "outputs": [
        {
          "output_type": "stream",
          "text": [
            "Joe Smith is taking the following courses: ('INFO3020', 'ASLP2050', 'ANTH4021')\n",
            "Juan Gonzales is taking the following courses: ('SOCI2020', 'INFO3020')\n",
            "Keith Richards not found\n"
          ],
          "name": "stdout"
        }
      ]
    },
    {
      "cell_type": "code",
      "metadata": {
        "colab_type": "code",
        "outputId": "842b786b-a96b-4c6d-8974-96fdb4532f79",
        "id": "2ySvoMk9scco",
        "colab": {
          "base_uri": "https://localhost:8080/",
          "height": 72
        }
      },
      "source": [
        "# part 2\n",
        "def matmaker(n,m):\n",
        "  a=[[0]*m for i in range(n)]\n",
        "  numbers=\"0123456789\"\n",
        "  alphabet=\"abcdefghijklmnopqrstuvwxyz\"\n",
        "  for c in range(m):\n",
        "    for r in range(n):\n",
        "      a[r][c] = alphabet[r] + numbers[c]\n",
        "  return(a)\n",
        "\n",
        "def search(term):\n",
        "  coord=-1\n",
        "  for i in range(len(a)):\n",
        "    for o in range(len(a[i])):\n",
        "      #print(a[i][o])\n",
        "      if a[i][o] == term:\n",
        "        coord=(i,o)\n",
        "        return(coord)\n",
        "  return(coord)\n",
        "  \n",
        "      \n",
        "  #return(coord)\n",
        "\n",
        "a=matmaker(5,5)\n",
        "#print(a)\n",
        "print(search(\"ec4\"))\n",
        "print(search(\"e4\"))\n",
        "print(search(\"a3\"))"
      ],
      "execution_count": 136,
      "outputs": [
        {
          "output_type": "stream",
          "text": [
            "-1\n",
            "(4, 4)\n",
            "(0, 3)\n"
          ],
          "name": "stdout"
        }
      ]
    },
    {
      "cell_type": "code",
      "metadata": {
        "id": "mKD_wBPOydYC",
        "colab_type": "code",
        "outputId": "77163f8b-9632-4759-a611-534fb826fc22",
        "colab": {
          "base_uri": "https://localhost:8080/",
          "height": 201
        }
      },
      "source": [
        "# part 3\n",
        "\n",
        "def wordcount(passage):\n",
        "  words=passage.split()\n",
        "  for i in range(len(words)):\n",
        "    c=0\n",
        "    for y in range(len(words)):\n",
        "      if words[i]==words[y]:\n",
        "         c+=1\n",
        "    d[words[i]]=c\n",
        "  return(d)\n",
        "\n",
        "def table(wrdcnt):\n",
        "  print(\"Word\\t\\t\\tCount\\n\",\"=\"*35)\n",
        "  for i in wrdcnt.keys():\n",
        "    print(i,\"       \\t\\t\",wrdcnt[i])\n",
        "\n",
        "\n",
        "x=\"\"\n",
        "for i in range(631):\n",
        "  x+=\"a \"\n",
        "x+=\"a-piece abide able \"\n",
        "for i in range(94):\n",
        "  x+=\"about \"\n",
        "x+=\"above above above absence absurd absurd\"\n",
        "\n",
        "\n",
        "\n",
        "\n",
        "z=wordcount(x)\n",
        "#print(z)\n",
        "table(z)"
      ],
      "execution_count": 135,
      "outputs": [
        {
          "output_type": "stream",
          "text": [
            "Word\t\t\tCount\n",
            " ===================================\n",
            "a        \t\t 631\n",
            "a-piece        \t\t 1\n",
            "abide        \t\t 1\n",
            "able        \t\t 1\n",
            "about        \t\t 94\n",
            "above        \t\t 3\n",
            "absence        \t\t 1\n",
            "absurd        \t\t 2\n"
          ],
          "name": "stdout"
        }
      ]
    }
  ]
}