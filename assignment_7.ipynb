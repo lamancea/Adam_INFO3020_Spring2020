{
  "nbformat": 4,
  "nbformat_minor": 0,
  "metadata": {
    "colab": {
      "name": "assignment 7.ipynb",
      "provenance": [],
      "authorship_tag": "ABX9TyPf9f/BfCTeDFi/4bqFbb5i",
      "include_colab_link": true
    },
    "kernelspec": {
      "name": "python3",
      "display_name": "Python 3"
    }
  },
  "cells": [
    {
      "cell_type": "markdown",
      "metadata": {
        "id": "view-in-github",
        "colab_type": "text"
      },
      "source": [
        "<a href=\"https://colab.research.google.com/github/lamancea/Adam_INFO3020_Spring2020/blob/master/assignment_7.ipynb\" target=\"_parent\"><img src=\"https://colab.research.google.com/assets/colab-badge.svg\" alt=\"Open In Colab\"/></a>"
      ]
    },
    {
      "cell_type": "code",
      "metadata": {
        "id": "J3De58FdufDI",
        "colab_type": "code",
        "outputId": "0ede925d-6406-42a7-e3a7-955343f610ef",
        "colab": {
          "base_uri": "https://localhost:8080/",
          "height": 34
        }
      },
      "source": [
        "\n",
        "\n",
        "def recusearch(numbers,term):\n",
        "  count=0\n",
        "  for x in numbers:\n",
        "    if type(x) is list:\n",
        "      count+=recusearch(x,term)\n",
        "    else:\n",
        "      if x==term:\n",
        "          count+=1\n",
        "  return count\n",
        "          #print(\"1\")\n",
        "  #print(count)\n",
        "\n",
        "numbers=[1,3234,45,6,0,[123,45,1,456,[676,234,1,23,[1,[1,323,4,5,6],213,[10,6]]]]]\n",
        "print(recusearch(numbers,6))\n"
      ],
      "execution_count": 28,
      "outputs": [
        {
          "output_type": "stream",
          "text": [
            "3\n"
          ],
          "name": "stdout"
        }
      ]
    },
    {
      "cell_type": "code",
      "metadata": {
        "id": "vQTXg28AwUKp",
        "colab_type": "code",
        "colab": {}
      },
      "source": [
        "import turtle\n",
        "def dsquare(square,size):\n",
        "\n",
        "    for i in range(4):\n",
        "        square.forward(size)\n",
        "        square.left(90)\n",
        "    square.penup()\n",
        "    square.forward(50)\n",
        "    square.pendown()\n",
        "\n",
        "def squares(turtle,size,count):\n",
        "    if count==1:\n",
        "        dsquare(turtle,size)\n",
        "    else:\n",
        "        squares(turtle,size,count-1)\n",
        "        dsquare(turtle,size)\n",
        "\n",
        "\n",
        "window=turtle.Screen()\n",
        "\n",
        "square = turtle.Turtle()\n",
        "squares(turtle,25,5)\n",
        "window.mainloop()"
      ],
      "execution_count": 0,
      "outputs": []
    },
    {
      "cell_type": "code",
      "metadata": {
        "id": "cxi5eaZ8wYcZ",
        "colab_type": "code",
        "colab": {}
      },
      "source": [
        "import turtle\n",
        "def dsquare(square,size):\n",
        "\n",
        "    for i in range(4):\n",
        "        square.forward(size)\n",
        "        square.left(90)\n",
        "    square.penup()\n",
        "    square.forward(25)\n",
        "    square.left(90)\n",
        "    square.forward(25)\n",
        "    square.right(90)\n",
        "    square.pendown()\n",
        "\n",
        "\n",
        "def concentric(turtle,size,count):\n",
        "\n",
        "    if count==0:\n",
        "        dsquare(turtle,size)\n",
        "    else:\n",
        "        concentric(turtle,size+50,count-1)\n",
        "        dsquare(turtle,size)\n",
        "\n",
        "\n",
        "window=turtle.Screen()\n",
        "\n",
        "square = turtle.Turtle()\n",
        "concentric(turtle,100,5)\n",
        "window.mainloop()"
      ],
      "execution_count": 0,
      "outputs": []
    }
  ]
}