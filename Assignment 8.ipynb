{
  "nbformat": 4,
  "nbformat_minor": 0,
  "metadata": {
    "colab": {
      "name": "Untitled10.ipynb",
      "provenance": [],
      "authorship_tag": "ABX9TyPaxO6F6Jj83Am5yjjYnc2Z",
      "include_colab_link": true
    },
    "kernelspec": {
      "name": "python3",
      "display_name": "Python 3"
    }
  },
  "cells": [
    {
      "cell_type": "markdown",
      "metadata": {
        "id": "view-in-github",
        "colab_type": "text"
      },
      "source": [
        "<a href=\"https://colab.research.google.com/github/lamancea/Adam_INFO3020_Spring2020/blob/master/Assignment%208.ipynb\" target=\"_parent\"><img src=\"https://colab.research.google.com/assets/colab-badge.svg\" alt=\"Open In Colab\"/></a>"
      ]
    },
    {
      "cell_type": "code",
      "metadata": {
        "id": "p4ILh7F0jPpU",
        "colab_type": "code",
        "colab": {
          "base_uri": "https://localhost:8080/",
          "height": 109
        },
        "outputId": "9b27230d-0d73-4008-ffac-6229f4d677c2"
      },
      "source": [
        "import copy\n",
        "import math\n",
        "class Point:\n",
        "  def __init__(self,x=0,y=0):\n",
        "    self.x=x\n",
        "    self.y=y\n",
        "\n",
        "  def distance_from_origin(self):\n",
        "    return (self.x**2+self.y**2)**0.5\n",
        "  \n",
        "  def __str__(self):\n",
        "    #return \"You can't print me!\"\n",
        "    return \"({0},{1})\".format(self.x,self.y)\n",
        "\n",
        "  def halfway(self,target):\n",
        "    mx=(self.x+target.x)/2\n",
        "    my=(self.y+target.y)/2\n",
        "    return Point(mx,my)\n",
        "\n",
        "#assignment 8.2\n",
        "  def reflect_x(self):\n",
        "    mx=-(self.x)\n",
        "    my=self.y\n",
        "    return Point(mx,my)\n",
        "\n",
        "#assignment 8.1\n",
        "def distance(p1,p2):\n",
        "  deltax=p1.x-p2.x\n",
        "  deltay=p1.y-p2.y\n",
        "  return math.sqrt(deltax**2+deltay**2)\n",
        "\n",
        "def print_point(pt):\n",
        "  print(\"({0},{1})\".format(pt.x,pt.y))\n",
        "\n",
        "def midpoint(p1,p2):\n",
        "  mx=(p1.x+p2.x)/2\n",
        "  my=(p1.y+p2.y)/2\n",
        "  return Point(mx,my)\n",
        "\n",
        "def same_coordinates(p1,p2):\n",
        "  return (p1.x==p2.x) and (p1.y==p2.y)\n",
        "p=Point()\n",
        "q=Point(3,4)\n",
        "r=Point(5,6)\n",
        "\n",
        "print(distance(q,r)) #8.1\n",
        "\n",
        "print(q.reflect_x())  #8.2\n",
        "\n",
        "class Rectangle:\n",
        "    def __init__(self, posn, w, h):\n",
        "        self.corner = posn\n",
        "        self.width = w\n",
        "        self.height = h\n",
        "\n",
        "    def __str__(self):\n",
        "        return \"({0},{1},{2})\".format(self.corner, self.width, self.height)\n",
        "\n",
        "    def grow(self,delta_width,delta_heigh):\n",
        "        self.width+=delta_width\n",
        "        self.height+=delta_heigh\n",
        "\n",
        "    def move(self,dx,dy):\n",
        "        self.corner.x+=dx\n",
        "        self.corner.y+=dy\n",
        "    \n",
        "    #assignment 8.3\n",
        "    def area(self):\n",
        "        return (self.width*self.height)\n",
        "    \n",
        "    #assignment 8.4\n",
        "    def flip(self):\n",
        "      return Rectangle(self.corner,self.height,self.width)\n",
        "\n",
        "    #assignment 8.5\n",
        "    def inside(self,pt):\n",
        "      if pt.x>=self.corner.x and  pt.x<(self.corner.x+self.width) and pt.y>=self.corner.y and pt.y<(self.corner.y+self.height):\n",
        "       print(\"{0} is within the rectangle\".format(pt))\n",
        "      else:\n",
        "        print (\"{0} is NOT within the rectangle\".format(pt))\n",
        "      \n",
        "\n",
        "box = Rectangle(Point(0, 0), 100, 200)\n",
        "\n",
        "print(box.area())  #8.3\n",
        "\n",
        "print(box.flip())  #8.4\n",
        "\n",
        "px=Point(5,199)\n",
        "\n",
        "box.inside(px)  #8.5"
      ],
      "execution_count": 47,
      "outputs": [
        {
          "output_type": "stream",
          "text": [
            "2.8284271247461903\n",
            "(-3,4)\n",
            "20000\n",
            "((0,0),200,100)\n",
            "(5,199) is within the rectangle\n"
          ],
          "name": "stdout"
        }
      ]
    }
  ]
}