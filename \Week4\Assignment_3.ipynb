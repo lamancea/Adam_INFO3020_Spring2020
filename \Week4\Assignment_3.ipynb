{
  "nbformat": 4,
  "nbformat_minor": 0,
  "metadata": {
    "colab": {
      "name": "Assignment 3.ipynb",
      "provenance": [],
      "authorship_tag": "ABX9TyOVKOtrJMHI2C1+Ovoiw/L8",
      "include_colab_link": true
    },
    "kernelspec": {
      "name": "python3",
      "display_name": "Python 3"
    }
  },
  "cells": [
    {
      "cell_type": "markdown",
      "metadata": {
        "id": "view-in-github",
        "colab_type": "text"
      },
      "source": [
        "<a href=\"https://colab.research.google.com/github/lamancea/Adam_INFO3020_Spring2020/blob/master/%5CWeek4%5CAssignment_3.ipynb\" target=\"_parent\"><img src=\"https://colab.research.google.com/assets/colab-badge.svg\" alt=\"Open In Colab\"/></a>"
      ]
    },
    {
      "cell_type": "code",
      "metadata": {
        "id": "s8iObHiaaXa8",
        "colab_type": "code",
        "colab": {
          "base_uri": "https://localhost:8080/",
          "height": 50
        },
        "outputId": "3bffb6f5-ea45-44f4-fd30-69224248a86b"
      },
      "source": [
        "#problem 1\n",
        "\n",
        "day=int(input(\"please enter a number from 0 to 6-\"))\n",
        "\n",
        "if day == 0:\n",
        "  print(\"Sunday\")\n",
        "elif day == 1:\n",
        "  print(\"Monday\")\n",
        "elif day == 2:\n",
        "  print(\"Tuesday\")\n",
        "elif day == 3:\n",
        "  print(\"Wednesday\")\n",
        "elif day == 4:\n",
        "  print(\"Thursday\")\n",
        "elif day == 5:\n",
        "  print(\"Friday\")\n",
        "elif day == 6:\n",
        "  print(\"Saturday\")\n",
        "else:\n",
        "  print(\"Invalid entry\")"
      ],
      "execution_count": 11,
      "outputs": [
        {
          "output_type": "stream",
          "text": [
            "please enter a number from 0 to 6-9\n",
            "Invalid entry\n"
          ],
          "name": "stdout"
        }
      ]
    },
    {
      "cell_type": "code",
      "metadata": {
        "id": "VvKFayrEaZZn",
        "colab_type": "code",
        "colab": {
          "base_uri": "https://localhost:8080/",
          "height": 67
        },
        "outputId": "cfc7f8f2-ff91-419d-ef8d-3ad7efce4046"
      },
      "source": [
        "#problem 2\n",
        "\n",
        "import math\n",
        "hypotenuse=math.sqrt(int(input(\"Enter the length of the first side of the triangle \"))**2+int(input(\"Enter the length of the other side \"))**2)\n",
        "print(\"The length of the hypotenuse is \"+ str(hypotenuse))"
      ],
      "execution_count": 12,
      "outputs": [
        {
          "output_type": "stream",
          "text": [
            "Enter the length of the first side of the triangle 3\n",
            "Enter the length of the other side 4\n",
            "The length of the hypotenuse is 5.0\n"
          ],
          "name": "stdout"
        }
      ]
    },
    {
      "cell_type": "code",
      "metadata": {
        "id": "hr6HRHU5cmyS",
        "colab_type": "code",
        "colab": {
          "base_uri": "https://localhost:8080/",
          "height": 84
        },
        "outputId": "30816a32-2b90-4648-ad65-b437f1510eff"
      },
      "source": [
        "#problem 3\n",
        "\n",
        "a=int(input(\"Please enter the length of the first side \"))\n",
        "b=int(input(\"Please enter the length of the second side \"))\n",
        "c=int(input(\"Please enter the length of the third side \"))\n",
        "\n",
        "if a**2+b**2==c**2:\n",
        "  print(\"These are the dimensions of a right triangle\")\n",
        "else:\n",
        "  print(\"These are not the dimensions of a right triangle\")"
      ],
      "execution_count": 14,
      "outputs": [
        {
          "output_type": "stream",
          "text": [
            "Please enter the length of the first side3\n",
            "Please enter the length of the second side5\n",
            "Please enter the length of the third side6\n",
            "These are not the dimensions of a right triangle\n"
          ],
          "name": "stdout"
        }
      ]
    },
    {
      "cell_type": "code",
      "metadata": {
        "id": "rz79yd8tdlck",
        "colab_type": "code",
        "colab": {
          "base_uri": "https://localhost:8080/",
          "height": 218
        },
        "outputId": "b502ac98-44e4-4a72-efdf-be84141b1fd6"
      },
      "source": [
        "#problem 4\n",
        "\n",
        "for i in (\"January\",\"February\",\"March\",\"April\",\"May\",\"June\",\"July\",\"August\",\"September\",\"October\",\"November\",\"December\"):\n",
        "  print(\"One month of the year is \"+i)"
      ],
      "execution_count": 17,
      "outputs": [
        {
          "output_type": "stream",
          "text": [
            "One month of the year is January\n",
            "One month of the year is February\n",
            "One month of the year is March\n",
            "One month of the year is April\n",
            "One month of the year is May\n",
            "One month of the year is June\n",
            "One month of the year is July\n",
            "One month of the year is August\n",
            "One month of the year is September\n",
            "One month of the year is October\n",
            "One month of the year is November\n",
            "One month of the year is December\n"
          ],
          "name": "stdout"
        }
      ]
    },
    {
      "cell_type": "code",
      "metadata": {
        "id": "NE9XXS6_eTmw",
        "colab_type": "code",
        "colab": {
          "base_uri": "https://localhost:8080/",
          "height": 50
        },
        "outputId": "0e3cfdb9-e790-48f2-cd34-26b640b1be61"
      },
      "source": [
        "#problem 5\n",
        "\n",
        "total=0\n",
        "product=1\n",
        "\n",
        "for i in(12,10,32,3,66,17,42,99,20):\n",
        "  total+=i\n",
        "  product*=i\n",
        "\n",
        "print(total)\n",
        "print(product)"
      ],
      "execution_count": 20,
      "outputs": [
        {
          "output_type": "stream",
          "text": [
            "301\n",
            "1074879590400\n"
          ],
          "name": "stdout"
        }
      ]
    },
    {
      "cell_type": "code",
      "metadata": {
        "id": "OrVV-K20fazk",
        "colab_type": "code",
        "colab": {}
      },
      "source": [
        "#problem 6\n",
        "\n",
        "import turtle\n",
        "\n",
        "window=turtle.Screen()\n",
        "a=turtle.Turtle()\n",
        "a.shape(\"turtle\")\n",
        "for i in range(3):\n",
        "    a.forward(50)\n",
        "    a.right(120)\n",
        "\n",
        "b=turtle.Turtle()\n",
        "b.shape(\"turtle\")\n",
        "b.penup()\n",
        "b.backward(100)\n",
        "b.pendown()\n",
        "for i in range(6):\n",
        "    b.forward(50)\n",
        "    b.right(60)\n",
        "\n",
        "window.mainloop()\n"
      ],
      "execution_count": 0,
      "outputs": []
    },
    {
      "cell_type": "code",
      "metadata": {
        "id": "9CLvgPXOifFM",
        "colab_type": "code",
        "colab": {}
      },
      "source": [
        "#problem 7\n",
        "\n",
        "import turtle\n",
        "\n",
        "window=turtle.Screen()\n",
        "drunk_pirate=turtle.Turtle()\n",
        "drunk_pirate.shape(\"turtle\")\n",
        "for i in (160,-43,270,-97,-43,200,940,17,-86):\n",
        "    drunk_pirate.right(i)\n",
        "    drunk_pirate.forward(100)\n",
        "\n",
        "window.mainloop()\n"
      ],
      "execution_count": 0,
      "outputs": []
    },
    {
      "cell_type": "code",
      "metadata": {
        "id": "PmWZgeszjcsD",
        "colab_type": "code",
        "colab": {
          "base_uri": "https://localhost:8080/",
          "height": 34
        },
        "outputId": "bb427bf9-decc-4bc7-8e4f-3cfa33594e52"
      },
      "source": [
        "#problem 8\n",
        "\n",
        "count=0\n",
        "\n",
        "for i in range(1000):\n",
        "  if i%2==0:\n",
        "    count+=1\n",
        "\n",
        "print(count)"
      ],
      "execution_count": 23,
      "outputs": [
        {
          "output_type": "stream",
          "text": [
            "500\n"
          ],
          "name": "stdout"
        }
      ]
    }
  ]
}