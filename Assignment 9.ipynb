{
  "nbformat": 4,
  "nbformat_minor": 0,
  "metadata": {
    "colab": {
      "name": "Untitled14.ipynb",
      "provenance": [],
      "toc_visible": true,
      "authorship_tag": "ABX9TyNcjhO4eTGuQOd+4OnkNdlT",
      "include_colab_link": true
    },
    "kernelspec": {
      "name": "python3",
      "display_name": "Python 3"
    }
  },
  "cells": [
    {
      "cell_type": "markdown",
      "metadata": {
        "id": "view-in-github",
        "colab_type": "text"
      },
      "source": [
        "<a href=\"https://colab.research.google.com/github/lamancea/Adam_INFO3020_Spring2020/blob/master/Assignment%209.ipynb\" target=\"_parent\"><img src=\"https://colab.research.google.com/assets/colab-badge.svg\" alt=\"Open In Colab\"/></a>"
      ]
    },
    {
      "cell_type": "code",
      "metadata": {
        "id": "WWogGY840hQ8",
        "colab_type": "code",
        "colab": {
          "base_uri": "https://localhost:8080/",
          "height": 35
        },
        "outputId": "a7dc6dc7-5b8d-4ff3-f8b1-e1f52e179023"
      },
      "source": [
        "#assignment 9-1\n",
        "\n",
        "class Mytime:\n",
        "  def __init__(self,hrs=0,mins=0,secs=0):\n",
        "    totalsecs=hrs*3600+mins*60+secs\n",
        "    self.hours=totalsecs//3600\n",
        "    leftoversecs=totalsecs % 3600\n",
        "    self.minutes=leftoversecs // 60\n",
        "    self.seconds=leftoversecs % 60\n",
        "\n",
        "\n",
        "  def increment(self,seconds):\n",
        "    self.seconds+=seconds;\n",
        "    while self.seconds>=60:\n",
        "      self.seconds-=60\n",
        "      self.minutes+=1\n",
        "\n",
        "    while self.minutes>=60:\n",
        "      self.minutes-=60\n",
        "      self.hours+=1\n",
        "  \n",
        "  def to_seconds(self):\n",
        "    return self.hours*3600+self.minutes*60+self.seconds\n",
        "\n",
        "  def __add__(self,other):\n",
        "    return Mytime(0,0,self.to_seconds()+other.to_seconds())\n",
        "\n",
        "  def __str__(self):\n",
        "    return \"the time is {0}:{1}:{2}\".format(self.hours,self.minutes,self.seconds)\n",
        "\n",
        "# assignment 9-1\n",
        "\n",
        "  def minint(self,time2):\n",
        "    minutes1 = self.hours*60+self.minutes+self.seconds/60\n",
        "    minutes2 = time2.hours*60+time2.minutes+time2.seconds/60\n",
        "    return \"the interval in minutes is about {0} minutes\".format(abs(int(minutes1-minutes2)))\n",
        "\n",
        "t1=Mytime(2,45,59)\n",
        "t2=Mytime(1,15,0)\n",
        "t1.minint(t2)\n"
      ],
      "execution_count": 7,
      "outputs": [
        {
          "output_type": "execute_result",
          "data": {
            "text/plain": [
              "'the interval in minutes is about 90 minutes'"
            ]
          },
          "metadata": {
            "tags": []
          },
          "execution_count": 7
        }
      ]
    },
    {
      "cell_type": "code",
      "metadata": {
        "id": "wBxntnpI3yH5",
        "colab_type": "code",
        "colab": {
          "base_uri": "https://localhost:8080/",
          "height": 72
        },
        "outputId": "51c2b42c-c89e-4a7e-90d0-ecdc8fecf802"
      },
      "source": [
        "#assignment 9-2\n",
        "\n",
        "class Card:\n",
        "  suits=[\"Clubs\",\"Diamonds\",\"Hearts\",\"Spades\"]\n",
        "  ranks=[\"narf\",\"Ace\",\"2\",\"3\",\"4\",\"5\",\"6\",\"7\",\"8\",\"9\",\"10\",\"Jack\",\"Queen\",\"King\"]\n",
        "\n",
        "\n",
        "  def __init__(self,suit=0,rank=0):\n",
        "    self.suit=suit\n",
        "    self.rank=rank\n",
        "\n",
        "  def __str__(self):\n",
        "    return (self.ranks[self.rank]+\" of \"+self.suits[self.suit])\n",
        "\n",
        "#modified cmp method\n",
        "  def cmp(self,other):\n",
        "    if self.suit>other.suit:return 1\n",
        "    if self.suit<other.suit:return -1\n",
        "\n",
        "    if self.rank==1 and other.rank!=1: return 1\n",
        "    if self.rank!=1 and other.rank==1: return -1\n",
        "\n",
        "    if self.rank>other.rank: return 1\n",
        "    if self.rank<other.rank: return -1\n",
        "    return 0\n",
        "\n",
        "  def __eq__(self,other):\n",
        "    return self.cmp(other)==0\n",
        "\n",
        "  def __le__(self,other):\n",
        "    return self.cmp(other)<=0\n",
        "\n",
        "  def __ge__(self,other):\n",
        "    return self.cmp(other)>=0\n",
        "\n",
        "  def __gt__(self,other):\n",
        "    return self.cmp(other)>0\n",
        "\n",
        "  def __lt__(self,other):\n",
        "    return self.cmp(other)<0\n",
        "\n",
        "  def __ne__(self,other):\n",
        "    return self.cmp(other)!=0\n",
        "\n",
        "\n",
        "card1=Card(1,1)\n",
        "print(\"card1:\",card1)\n",
        "\n",
        "card2=Card(1,13)\n",
        "print(\"card2:\",card2)\n",
        "\n",
        "print(card1>card2)\n"
      ],
      "execution_count": 32,
      "outputs": [
        {
          "output_type": "stream",
          "text": [
            "card1: Ace of Diamonds\n",
            "card2: King of Diamonds\n",
            "True\n"
          ],
          "name": "stdout"
        }
      ]
    },
    {
      "cell_type": "code",
      "metadata": {
        "id": "0xhnXOfA9eHu",
        "colab_type": "code",
        "colab": {
          "base_uri": "https://localhost:8080/",
          "height": 54
        },
        "outputId": "67156e15-1639-4829-ae82-385061553ff4"
      },
      "source": [
        "#assignment 9-3\n",
        "\n",
        "def readposint():\n",
        "  try:\n",
        "    posint=int(input(\"Please input a positive integer: \"))\n",
        "    if posint<0:\n",
        "      myerror=ValueError(\"{0} is not positive\".format(posint))\n",
        "      raise myerror\n",
        "    return posint\n",
        "  except ValueError:\n",
        "    print(\"This is not a valid positive integer\")\n",
        "\n",
        "readposint()"
      ],
      "execution_count": 31,
      "outputs": [
        {
          "output_type": "stream",
          "text": [
            "Please input a positive integer: -5\n",
            "This is not a valid positive integer\n"
          ],
          "name": "stdout"
        }
      ]
    }
  ]
}