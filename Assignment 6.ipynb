{
  "nbformat": 4,
  "nbformat_minor": 0,
  "metadata": {
    "colab": {
      "name": "Untitled8.ipynb",
      "provenance": [],
      "toc_visible": true,
      "authorship_tag": "ABX9TyN7iuBAxCGTvtlThOqHcwYi",
      "include_colab_link": true
    },
    "kernelspec": {
      "name": "python3",
      "display_name": "Python 3"
    }
  },
  "cells": [
    {
      "cell_type": "markdown",
      "metadata": {
        "id": "view-in-github",
        "colab_type": "text"
      },
      "source": [
        "<a href=\"https://colab.research.google.com/github/lamancea/Adam_INFO3020_Spring2020/blob/master/Assignment%206.ipynb\" target=\"_parent\"><img src=\"https://colab.research.google.com/assets/colab-badge.svg\" alt=\"Open In Colab\"/></a>"
      ]
    },
    {
      "cell_type": "code",
      "metadata": {
        "id": "ESb8-8ZLs5hh",
        "colab_type": "code",
        "colab": {}
      },
      "source": [
        "import numpy as np\n",
        "\n",
        "def writenum():\n",
        "    with open(\"numbers.txt\",\"w\") as myfile:\n",
        "        myfile.write(\"5 10 20 40 80 160 320 640 1280 2560\")\n",
        "\n",
        "\n",
        "def numcap():\n",
        "\n",
        "    with open(\"numbers.txt\") as myfile:\n",
        "        numbers=myfile.read()\n",
        "        numlistst=numbers.split()\n",
        "        numlistint=list(map(int,numlistst))\n",
        "        numlistcap=np.array(numlistint)\n",
        "        numlistcap[numlistcap>100]=100\n",
        "    with open(\"newnumbers.txt\",\"w\") as myfile:\n",
        "      myfile.write(str(numlistcap))\n",
        "      \n",
        "writenum()\n",
        "numcap()\n"
      ],
      "execution_count": 0,
      "outputs": []
    },
    {
      "cell_type": "code",
      "metadata": {
        "id": "mQd2OPo5uZEO",
        "colab_type": "code",
        "colab": {
          "base_uri": "https://localhost:8080/",
          "height": 118
        },
        "outputId": "8b549e9b-113d-4fd7-a0f0-1bac5b3d0efe"
      },
      "source": [
        "import numpy as np\n",
        "import random\n",
        "\n",
        "studs=[(\"Howard Smith\",\"10005\"),(\"Gina Main\",\"23456\"),(\"Dustin Whitehead\",\"38463\"),(\"Robert McElroy\",\"99675\"),(\"Sam White\",\"43300\"),(\"George George\",\"33301\"),(\"Julie Windward\",\"01827\"),(\"Dorothy Oz\",\"65409\"),(\"Toto Dog\",\"00001\"),(\"Milton Burl\",\"99999\")]\n",
        "\n",
        "def studrec():\n",
        "  with open(\"Students.txt\",\"w\") as myfile:\n",
        "    for s in range(len(studs)):\n",
        "      myfile.write(studs[s][0])#,\" \",studs[s][1],\"/n\")\n",
        "      myfile.write(\" \")\n",
        "      myfile.write(studs[s][1])\n",
        "      myfile.write(\"\\n\")\n",
        "\n",
        "def roll():\n",
        "  with open(\"Students.txt\") as myfile:\n",
        "    studr=myfile.readlines()\n",
        "\n",
        "    rng=random.Random()\n",
        "    rng.shuffle(studr)\n",
        "    print(studr[0])\n",
        "\n",
        "studrec()\n",
        "roll()\n",
        "roll()\n",
        "roll()"
      ],
      "execution_count": 32,
      "outputs": [
        {
          "output_type": "stream",
          "text": [
            "George George 33301\n",
            "\n",
            "Robert McElroy 99675\n",
            "\n",
            "George George 33301\n",
            "\n"
          ],
          "name": "stdout"
        }
      ]
    }
  ]
}